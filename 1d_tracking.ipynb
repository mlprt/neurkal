{
 "cells": [
  {
   "cell_type": "code",
   "execution_count": 1,
   "metadata": {},
   "outputs": [],
   "source": [
    "%load_ext autoreload\n",
    "%autoreload 2"
   ]
  },
  {
   "cell_type": "code",
   "execution_count": 2,
   "metadata": {},
   "outputs": [],
   "source": [
    "import neurkal\n",
    "\n",
    "import itertools\n",
    "from matplotlib import pyplot as plt\n",
    "from matplotlib import rc, rcParams\n",
    "import numpy as np\n",
    "import seaborn as sns"
   ]
  },
  {
   "cell_type": "code",
   "execution_count": 3,
   "metadata": {},
   "outputs": [],
   "source": [
    "## Plot style setup\n",
    "#rc('mathtext', default='regular')\n",
    "#rcParams.update({'figure.autolayout': True})\n",
    "sns.set_style(\"ticks\")\n",
    "#set_palette = lambda: itertools.cycle(sns.color_palette(\"cubehelix\", 8))\n",
    "set_palette = lambda: itertools.cycle(sns.cubehelix_palette(8, start=2, rot=0, dark=0, light=.95, reverse=True))"
   ]
  },
  {
   "cell_type": "code",
   "execution_count": 4,
   "metadata": {},
   "outputs": [],
   "source": [
    "def input_act(x, x_i):\n",
    "    return 3 * (np.exp(2 * (np.cos(x - x_i) - 1)) + 0.01)"
   ]
  },
  {
   "cell_type": "code",
   "execution_count": 5,
   "metadata": {},
   "outputs": [],
   "source": [
    "# simulation parameters\n",
    "p = 50  # units in input networks\n",
    "t_f = 10  # total time\n",
    "dt = 0.1  # timestep\n",
    "ts = np.arange(0, t_f, dt)"
   ]
  },
  {
   "cell_type": "code",
   "execution_count": 6,
   "metadata": {},
   "outputs": [],
   "source": [
    "# dynamical parameters\n",
    "M = [[1]]  # internal model dynamics\n",
    "B = [[1]]   # constant \"motor\" dynamics\n",
    "Z = [[0.00005]]  # motor noise variance\n",
    "c = 0.003\n",
    "c_ = np.array([[c]])"
   ]
  },
  {
   "cell_type": "code",
   "execution_count": 7,
   "metadata": {},
   "outputs": [
    {
     "data": {
      "image/png": "[encoded data removed]",
      "text/plain": [
       "<matplotlib.figure.Figure at 0x7f1ed54e7d30>"
      ]
     },
     "metadata": {},
     "output_type": "display_data"
    }
   ],
   "source": [
    "## test conventional kalman filter\n",
    "kalman = neurkal.KalmanFilter(M=M, B=B, Z=Z)\n",
    "# initial state\n",
    "x0 = 0.25\n",
    "state = neurkal.StateDynamics(M, B, Z, x0=x0)\n",
    "# sensory noise\n",
    "sensory_variance = 0.005\n",
    "\n",
    "states = []\n",
    "estimates = []\n",
    "gains = []\n",
    "for t in ts:\n",
    "    estimates.append(kalman.estimate[0, 0])\n",
    "    gains.append(kalman.gain[0, 0])\n",
    "    states.append(state.x[0])\n",
    "    x_s = state.x + np.random.normal(0, sensory_variance)\n",
    "    kalman.step(c_, x_s, Q=[[sensory_variance]])\n",
    "    state.update(c_)\n",
    "\n",
    "palette = set_palette()\n",
    "fig, ax1 = plt.subplots(figsize=(7, 6))\n",
    "ax1.set_xlabel(\"Time\")\n",
    "ax1.set_ylabel(\"Position\")\n",
    "p1, = ax1.plot(ts, states, '-', color=next(palette), label=\"State\", lw=2)\n",
    "p2, = ax1.plot(ts, estimates, '.', color=next(palette), label=\"Kalman estimate\", markerfacecolor='none', ms=8)\n",
    "ax2 = ax1.twinx()\n",
    "ax2.set_ylabel(\"Kalman gain\")\n",
    "p3, = ax2.plot(ts, gains, '.', color=next(palette), label=\"Kalman gain\", ms=3)\n",
    "\n",
    "ps = [p1, p2, p3]\n",
    "labels = [p.get_label() for p in ps]\n",
    "ax1.legend(ps, labels, loc=7)\n",
    "plt.show()"
   ]
  },
  {
   "cell_type": "code",
   "execution_count": 7,
   "metadata": {},
   "outputs": [
    {
     "ename": "ValueError",
     "evalue": "shapes (50,50) and (1,50) not aligned: 50 (dim 1) != 1 (dim 0)",
     "output_type": "error",
     "traceback": [
      "\u001b[0;31m---------------------------------------------------------------------------\u001b[0m",
      "\u001b[0;31mValueError\u001b[0m                                Traceback (most recent call last)",
      "\u001b[0;32m<ipython-input-7-068eca953525>\u001b[0m in \u001b[0;36m<module>\u001b[0;34m()\u001b[0m\n\u001b[1;32m     26\u001b[0m     \u001b[0mksigs\u001b[0m\u001b[0;34m.\u001b[0m\u001b[0mappend\u001b[0m\u001b[0;34m(\u001b[0m\u001b[0mkalman\u001b[0m\u001b[0;34m.\u001b[0m\u001b[0msigma\u001b[0m\u001b[0;34m)\u001b[0m\u001b[0;34m\u001b[0m\u001b[0m\n\u001b[1;32m     27\u001b[0m     \u001b[0;31m# update conventional kalman filter to get sigma\u001b[0m\u001b[0;34m\u001b[0m\u001b[0;34m\u001b[0m\u001b[0m\n\u001b[0;32m---> 28\u001b[0;31m     \u001b[0mkalman\u001b[0m\u001b[0;34m.\u001b[0m\u001b[0mstep\u001b[0m\u001b[0;34m(\u001b[0m\u001b[0mc_\u001b[0m\u001b[0;34m,\u001b[0m \u001b[0msensory_input\u001b[0m\u001b[0;34m.\u001b[0m\u001b[0mreadout\u001b[0m\u001b[0;34m(\u001b[0m\u001b[0;34m)\u001b[0m\u001b[0;34m,\u001b[0m \u001b[0mQ\u001b[0m\u001b[0;34m=\u001b[0m\u001b[0;34m[\u001b[0m\u001b[0;34m[\u001b[0m\u001b[0msensory_input\u001b[0m\u001b[0;34m.\u001b[0m\u001b[0mcr_bound\u001b[0m\u001b[0;34m]\u001b[0m\u001b[0;34m]\u001b[0m\u001b[0;34m)\u001b[0m\u001b[0;34m\u001b[0m\u001b[0m\n\u001b[0m\u001b[1;32m     29\u001b[0m     \u001b[0;31m# update activity in basis network implementing Kalman filter\u001b[0m\u001b[0;34m\u001b[0m\u001b[0;34m\u001b[0m\u001b[0m\n\u001b[1;32m     30\u001b[0m     \u001b[0mkalman_network\u001b[0m\u001b[0;34m.\u001b[0m\u001b[0mupdate\u001b[0m\u001b[0;34m(\u001b[0m\u001b[0mkalman\u001b[0m\u001b[0;34m.\u001b[0m\u001b[0msigma\u001b[0m\u001b[0;34m)\u001b[0m\u001b[0;34m\u001b[0m\u001b[0m\n",
      "\u001b[0;32m~/dev/neurkal/neurkal/neurkal.py\u001b[0m in \u001b[0;36mreadout\u001b[0;34m(self, iterations, weight_func, S, mu)\u001b[0m\n\u001b[1;32m     83\u001b[0m         \u001b[0mrecnet\u001b[0m\u001b[0;34m.\u001b[0m\u001b[0mactivity\u001b[0m \u001b[0;34m=\u001b[0m \u001b[0mnp\u001b[0m\u001b[0;34m.\u001b[0m\u001b[0mcopy\u001b[0m\u001b[0;34m(\u001b[0m\u001b[0mself\u001b[0m\u001b[0;34m.\u001b[0m\u001b[0mactivity\u001b[0m\u001b[0;34m)\u001b[0m\u001b[0;34m\u001b[0m\u001b[0m\n\u001b[1;32m     84\u001b[0m         \u001b[0;32mfor\u001b[0m \u001b[0m_\u001b[0m \u001b[0;32min\u001b[0m \u001b[0mrange\u001b[0m\u001b[0;34m(\u001b[0m\u001b[0miterations\u001b[0m\u001b[0;34m)\u001b[0m\u001b[0;34m:\u001b[0m\u001b[0;34m\u001b[0m\u001b[0m\n\u001b[0;32m---> 85\u001b[0;31m             \u001b[0mrecnet\u001b[0m\u001b[0;34m.\u001b[0m\u001b[0mstep\u001b[0m\u001b[0;34m(\u001b[0m\u001b[0;34m)\u001b[0m\u001b[0;34m\u001b[0m\u001b[0m\n\u001b[0m\u001b[1;32m     86\u001b[0m \u001b[0;34m\u001b[0m\u001b[0m\n\u001b[1;32m     87\u001b[0m         \u001b[0;31m# center of mass estimate\u001b[0m\u001b[0;34m\u001b[0m\u001b[0;34m\u001b[0m\u001b[0m\n",
      "\u001b[0;32m~/dev/neurkal/neurkal/neurkal.py\u001b[0m in \u001b[0;36mstep\u001b[0;34m(self)\u001b[0m\n\u001b[1;32m    127\u001b[0m \u001b[0;34m\u001b[0m\u001b[0m\n\u001b[1;32m    128\u001b[0m     \u001b[0;32mdef\u001b[0m \u001b[0mstep\u001b[0m\u001b[0;34m(\u001b[0m\u001b[0mself\u001b[0m\u001b[0;34m)\u001b[0m\u001b[0;34m:\u001b[0m\u001b[0;34m\u001b[0m\u001b[0m\n\u001b[0;32m--> 129\u001b[0;31m         \u001b[0mu\u001b[0m \u001b[0;34m=\u001b[0m \u001b[0mself\u001b[0m\u001b[0;34m.\u001b[0m\u001b[0m_w\u001b[0m \u001b[0;34m@\u001b[0m \u001b[0mself\u001b[0m\u001b[0;34m.\u001b[0m\u001b[0mactivity\u001b[0m\u001b[0;34m\u001b[0m\u001b[0m\n\u001b[0m\u001b[1;32m    130\u001b[0m         \u001b[0mu_sq\u001b[0m \u001b[0;34m=\u001b[0m \u001b[0mu\u001b[0m \u001b[0;34m**\u001b[0m \u001b[0;36m2\u001b[0m\u001b[0;34m\u001b[0m\u001b[0m\n\u001b[1;32m    131\u001b[0m         \u001b[0mself\u001b[0m\u001b[0;34m.\u001b[0m\u001b[0mactivity\u001b[0m \u001b[0;34m=\u001b[0m \u001b[0mu_sq\u001b[0m \u001b[0;34m/\u001b[0m \u001b[0;34m(\u001b[0m\u001b[0mself\u001b[0m\u001b[0;34m.\u001b[0m\u001b[0m_S\u001b[0m \u001b[0;34m+\u001b[0m \u001b[0mself\u001b[0m\u001b[0;34m.\u001b[0m\u001b[0m_mu\u001b[0m \u001b[0;34m*\u001b[0m \u001b[0mnp\u001b[0m\u001b[0;34m.\u001b[0m\u001b[0msum\u001b[0m\u001b[0;34m(\u001b[0m\u001b[0mu_sq\u001b[0m\u001b[0;34m)\u001b[0m\u001b[0;34m)\u001b[0m\u001b[0;34m\u001b[0m\u001b[0m\n",
      "\u001b[0;31mValueError\u001b[0m: shapes (50,50) and (1,50) not aligned: 50 (dim 1) != 1 (dim 0)"
     ]
    }
   ],
   "source": [
    "## Kalman network test -- only initial feedback\n",
    "# initial state\n",
    "x0 = 0.25\n",
    "state = neurkal.StateDynamics(M, B, Z, x0=x0)\n",
    "\n",
    "# network initialization\n",
    "sensory_input = neurkal.PopCode(p, act_func=input_act,\n",
    "                                dist=np.random.poisson)\n",
    "# motor_input = popcode.PopCode(p, act_func=input_act, dist=lambda x: x)\n",
    "kalman_network = neurkal.KalmanBasisNetwork(sensory_inputs=[sensory_input],\n",
    "                                            motor_inputs=[], M=M, B=[[]])\n",
    "# conventional kalman filter to provide sigma\n",
    "kalman = neurkal.KalmanFilter(M=M, B=B, Z=Z)\n",
    "\n",
    "activities = []\n",
    "hs = []\n",
    "us = []\n",
    "lams = []\n",
    "ksigs = []\n",
    "\n",
    "sensory_input(state.x[0])\n",
    "for t in ts:\n",
    "    activities.append(kalman_network.activity)\n",
    "    hs.append(kalman_network._h)\n",
    "    lams.append(kalman_network._lambda)\n",
    "    ksigs.append(kalman.sigma)\n",
    "    # update conventional kalman filter to get sigma\n",
    "    kalman.step(c_, sensory_input.readout(), Q=[[sensory_input.cr_bound]])\n",
    "    # update activity in basis network implementing Kalman filter\n",
    "    kalman_network.update(kalman.sigma)\n",
    "    us.append(kalman_network._u)\n",
    "    # update real state (+ control noise)\n",
    "    state.update(c_)\n",
    "    if not t:\n",
    "        sensory_input.clear()\n",
    "\n",
    "prefs = kalman_network.prefs\n",
    "    \n",
    "palette = set_palette()\n",
    "fig, ax1 = plt.subplots(figsize=(7, 6))\n",
    "ax1.set_xlabel(\"Preferred position\")\n",
    "ax1.set_ylabel(\"Activity\")\n",
    "ps = []\n",
    "for i in [0, 1, 2, 3]:\n",
    "    ps.append(ax1.plot(prefs, activities[i], '-', color=next(palette), lw=2, label=str(i))[0])\n",
    "    \n",
    "labels = [p.get_label() for p in ps]\n",
    "ax1.legend(ps, labels, loc=7)\n",
    "plt.show()"
   ]
  },
  {
   "cell_type": "code",
   "execution_count": 45,
   "metadata": {},
   "outputs": [
    {
     "data": {
      "text/plain": [
       "[[[1000000000000.0]],\n",
       " array([[0.00723181]]),\n",
       " array([[0.00365336]]),\n",
       " array([[0.00247153]]),\n",
       " array([[0.00188875]]),\n",
       " array([[0.00154546]]),\n",
       " array([[0.00132178]]),\n",
       " array([[0.00116633]]),\n",
       " array([[0.00105338]]),\n",
       " array([[0.00096864]]),\n",
       " array([[0.00090352]]),\n",
       " array([[0.00085255]]),\n",
       " array([[0.00081209]]),\n",
       " array([[0.00077959]]),\n",
       " array([[0.00075325]]),\n",
       " array([[0.00073175]]),\n",
       " array([[0.00071408]]),\n",
       " array([[0.0006995]]),\n",
       " array([[0.00068742]]),\n",
       " array([[0.00067737]]),\n",
       " array([[0.00066899]]),\n",
       " array([[0.00066198]]),\n",
       " array([[0.00065611]]),\n",
       " array([[0.00065119]]),\n",
       " array([[0.00064705]]),\n",
       " array([[0.00064358]]),\n",
       " array([[0.00064065]]),\n",
       " array([[0.00063818]]),\n",
       " array([[0.0006361]]),\n",
       " array([[0.00063434]]),\n",
       " array([[0.00063286]]),\n",
       " array([[0.00063161]]),\n",
       " array([[0.00063055]]),\n",
       " array([[0.00062966]]),\n",
       " array([[0.0006289]]),\n",
       " array([[0.00062827]]),\n",
       " array([[0.00062773]]),\n",
       " array([[0.00062727]]),\n",
       " array([[0.00062688]]),\n",
       " array([[0.00062656]]),\n",
       " array([[0.00062628]]),\n",
       " array([[0.00062605]]),\n",
       " array([[0.00062585]]),\n",
       " array([[0.00062568]]),\n",
       " array([[0.00062554]]),\n",
       " array([[0.00062542]]),\n",
       " array([[0.00062532]]),\n",
       " array([[0.00062523]]),\n",
       " array([[0.00062516]]),\n",
       " array([[0.0006251]]),\n",
       " array([[0.00062505]]),\n",
       " array([[0.000625]]),\n",
       " array([[0.00062497]]),\n",
       " array([[0.00062494]]),\n",
       " array([[0.00062491]]),\n",
       " array([[0.00062489]]),\n",
       " array([[0.00062487]]),\n",
       " array([[0.00062485]]),\n",
       " array([[0.00062484]]),\n",
       " array([[0.00062483]]),\n",
       " array([[0.00062482]]),\n",
       " array([[0.00062481]]),\n",
       " array([[0.0006248]]),\n",
       " array([[0.0006248]]),\n",
       " array([[0.00062479]]),\n",
       " array([[0.00062479]]),\n",
       " array([[0.00062478]]),\n",
       " array([[0.00062478]]),\n",
       " array([[0.00062478]]),\n",
       " array([[0.00062477]]),\n",
       " array([[0.00062477]]),\n",
       " array([[0.00062477]]),\n",
       " array([[0.00062477]]),\n",
       " array([[0.00062477]]),\n",
       " array([[0.00062477]]),\n",
       " array([[0.00062477]]),\n",
       " array([[0.00062477]]),\n",
       " array([[0.00062477]]),\n",
       " array([[0.00062477]]),\n",
       " array([[0.00062476]]),\n",
       " array([[0.00062476]]),\n",
       " array([[0.00062476]]),\n",
       " array([[0.00062476]]),\n",
       " array([[0.00062476]]),\n",
       " array([[0.00062476]]),\n",
       " array([[0.00062476]]),\n",
       " array([[0.00062476]]),\n",
       " array([[0.00062476]]),\n",
       " array([[0.00062476]]),\n",
       " array([[0.00062476]]),\n",
       " array([[0.00062476]]),\n",
       " array([[0.00062476]]),\n",
       " array([[0.00062476]]),\n",
       " array([[0.00062476]]),\n",
       " array([[0.00062476]]),\n",
       " array([[0.00062476]]),\n",
       " array([[0.00062476]]),\n",
       " array([[0.00062476]]),\n",
       " array([[0.00062476]]),\n",
       " array([[0.00062476]])]"
      ]
     },
     "execution_count": 45,
     "metadata": {},
     "output_type": "execute_result"
    }
   ],
   "source": [
    "ksigs"
   ]
  },
  {
   "cell_type": "code",
   "execution_count": 35,
   "metadata": {},
   "outputs": [],
   "source": [
    "with open(\"test.csv\", 'w') as f:\n",
    "    kalman_network._w.tofile(f, sep=',')"
   ]
  },
  {
   "cell_type": "code",
   "execution_count": 38,
   "metadata": {},
   "outputs": [
    {
     "data": {
      "text/plain": [
       "array([[1.        , 0.97662171, 0.91005475, ..., 0.8100409 , 0.91005475,\n",
       "        0.97662171],\n",
       "       [0.97662171, 1.        , 0.97662171, ..., 0.68998877, 0.8100409 ,\n",
       "        0.91005475],\n",
       "       [0.91005475, 0.97662171, 1.        , ..., 0.56386015, 0.68998877,\n",
       "        0.8100409 ],\n",
       "       ...,\n",
       "       [0.8100409 , 0.68998877, 0.56386015, ..., 1.        , 0.97662171,\n",
       "        0.91005475],\n",
       "       [0.91005475, 0.8100409 , 0.68998877, ..., 0.97662171, 1.        ,\n",
       "        0.97662171],\n",
       "       [0.97662171, 0.91005475, 0.8100409 , ..., 0.91005475, 0.97662171,\n",
       "        1.        ]])"
      ]
     },
     "execution_count": 38,
     "metadata": {},
     "output_type": "execute_result"
    }
   ],
   "source": [
    "kalman_network._w"
   ]
  },
  {
   "cell_type": "code",
   "execution_count": 13,
   "metadata": {},
   "outputs": [
    {
     "data": {
      "image/png": "[encoded data removed]",
      "text/plain": [
       "<matplotlib.figure.Figure at 0x7f1ecc687860>"
      ]
     },
     "metadata": {},
     "output_type": "display_data"
    }
   ],
   "source": [
    "## Kalman network test\n",
    "# initial state\n",
    "x0 = 0.25\n",
    "state = neurkal.StateDynamics(M, B, Z, x0=x0)\n",
    "\n",
    "# network initialization\n",
    "sensory_input = neurkal.PopCode(p, act_func=input_act,\n",
    "                                dist=np.random.poisson)\n",
    "# motor_input = popcode.PopCode(p, act_func=input_act, dist=lambda x: x)\n",
    "kalman_network = neurkal.KalmanBasisNetwork(sensory_inputs=[sensory_input],\n",
    "                                            motor_inputs=[], M=M, B=[[]])\n",
    "# conventional kalman filter to provide sigma\n",
    "kalman = neurkal.KalmanFilter(M=M, B=B, Z=Z)\n",
    "\n",
    "states = []\n",
    "estimates = []\n",
    "gains = []\n",
    "\n",
    "for t in ts:\n",
    "    sensory_input(state.x[0])\n",
    "    states.append(state.x[0])\n",
    "    # update conventional kalman filter to get sigma\n",
    "    kalman.step(c_, sensory_input.readout(), Q=[[sensory_input.cr_bound]])\n",
    "    # update activity in basis network implementing Kalman filter\n",
    "    kalman_network.update(kalman.sigma)\n",
    "    estimates.append(kalman_network.readout())\n",
    "    # update real state (+ control noise)\n",
    "    state.update(c_)\n",
    "    \n",
    "palette = set_palette()\n",
    "fig, ax1 = plt.subplots()#figsize=(7, 6))\n",
    "ax1.set_xlabel(\"Time\")\n",
    "ax1.set_ylabel(\"Position\")\n",
    "p1, = ax1.plot(ts, states, '-', color=next(palette), label=\"State\", lw=2)\n",
    "p2, = ax1.plot(ts, estimates, '.', color=next(palette), label=\"Kalman estimate\", markerfacecolor='none', ms=8)\n",
    "#ax2 = ax1.twinx()\n",
    "#ax2.set_ylabel(\"Kalman gain\")\n",
    "#p3, = ax2.plot(ts, gains, '.', color=next(palette), label=\"Kalman gain\", ms=4)\n",
    "\n",
    "ps = [p1, p2]#, p3]\n",
    "labels = [p.get_label() for p in ps]\n",
    "ax1.legend(ps, labels, loc=7)\n",
    "plt.show()"
   ]
  }
 ],
 "metadata": {
  "kernelspec": {
   "display_name": "Python 3",
   "language": "python",
   "name": "python3"
  },
  "language_info": {
   "codemirror_mode": {
    "name": "ipython",
    "version": 3
   },
   "file_extension": ".py",
   "mimetype": "text/x-python",
   "name": "python",
   "nbconvert_exporter": "python",
   "pygments_lexer": "ipython3",
   "version": "3.6.4"
  }
 },
 "nbformat": 4,
 "nbformat_minor": 2
}
